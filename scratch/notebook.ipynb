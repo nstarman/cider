{
 "cells": [
  {
   "cell_type": "code",
   "execution_count": 35,
   "metadata": {},
   "outputs": [
    {
     "name": "stdout",
     "output_type": "stream",
     "text": [
      "['__class__', '__delattr__', '__dict__', '__dir__', '__doc__', '__eq__', '__format__', '__ge__', '__getattribute__', '__gt__', '__hash__', '__init__', '__init_subclass__', '__le__', '__lt__', '__module__', '__ne__', '__new__', '__reduce__', '__reduce_ex__', '__repr__', '__setattr__', '__sizeof__', '__str__', '__subclasshook__', '__weakref__', '_add_badmodule', '_safe_import_hook', 'add_module', 'any_missing', 'any_missing_maybe', 'determine_parent', 'ensure_fromlist', 'find_all_submodules', 'find_head_package', 'find_module', 'import_hook', 'import_module', 'load_file', 'load_module', 'load_package', 'load_tail', 'msg', 'msgin', 'msgout', 'replace_paths_in_code', 'report', 'run_script', 'scan_code', 'scan_opcodes']\n"
     ]
    }
   ],
   "source": [
    "import inspect\n",
    "import importlib\n",
    "from modulefinder import ModuleFinder\n",
    "\n",
    "print(dir(ModuleFinder))"
   ]
  },
  {
   "cell_type": "code",
   "execution_count": 23,
   "metadata": {},
   "outputs": [
    {
     "name": "stdout",
     "output_type": "stream",
     "text": [
      "Loaded modules:\n",
      "__main__, re, enum, sys, types, functools, _functools, abc, _abc, _py_abc, _weakrefset, _weakref, collections, _collections_abc, operator, builtins, _operator, keyword, heapq, _heapq, doctest, __future__, difflib, inspect, dis, io, _io, opcode, _opcode, argparse, os, stat, _stat, posix, posixpath, genericpath, pwd, ntpath, string, _string, warnings, _warnings, linecache, tokenize, codecs, _codecs, encodings, encodings.aliases, encodings.mbcs, itertools, token, tracemalloc, collections.abc, fnmatch, pickle, copyreg, struct, _struct, _compat_pickle, _pickle, pprint, time, _tracemalloc, traceback, subprocess, signal, _signal, errno, threading, _thread, _collections, _threading_local, weakref, copy, atexit, gc, contextlib, _posixsubprocess, select, selectors, math, gettext, locale, _locale, _bootlocale, textwrap, importlib, _imp, importlib._bootstrap, importlib._bootstrap_external, importlib.machinery, ast, _ast, pdb, cmd, readline, bdb, reprlib, code, codeop, glob, shlex, runpy, importlib.util, importlib.abc, pkgutil, zipimport, marshal, pydoc, platform, plistlib, binascii, datetime, _datetime, _strptime, calendar, xml, xml.parsers, xml.parsers.expat, pyexpat, socket, _socket, urllib, urllib.parse, unicodedata, tempfile, shutil, zlib, bz2, _compression, _bz2, lzma, _lzma, grp, tarfile, gzip, zipfile, py_compile, random, hashlib, _hashlib, logging, _sha1, _md5, _sha256, _sha512, _blake2, _sha3, bisect, _bisect, _random, tty, termios, pydoc_data, pydoc_data.topics, http, http.server, email, email.parser, email.feedparser, email.errors, email._policybase, email.header, email.quoprimime, email.base64mime, base64, getopt, email.charset, email.encoders, quopri, email.utils, email._parseaddr, email.message, uu, optparse, email._encoded_words, email.iterators, email.generator, email.policy, email.headerregistry, email._header_value_parser, email.contentmanager, html, html.entities, http.client, ssl, _ssl, mimetypes, socketserver, webbrowser, unittest, unittest.result, unittest.util, unittest.case, unittest.suite, unittest.loader, unittest.main, unittest.runner, unittest.signals, typing, sre_compile, _sre, sre_parse, sre_constants, \n",
      " --------------------------------------------------\n",
      "Modules not imported:\n",
      "collections.namedtuple, nt, collections.ChainMap, os.path, _winapi, org.python.core, collections.deque, msvcrt, _frozen_importlib, _frozen_importlib_external, collections.OrderedDict, winreg, _winreg, java.lang, vms_lib, http.HTTPStatus, collections.Counter, baconhameggs, guido.python.ham\n"
     ]
    }
   ],
   "source": [
    "finder = ModuleFinder()\n",
    "finder.run_script('bacon.py')\n",
    "\n",
    "print('Loaded modules:')\n",
    "for name, mod in finder.modules.items():\n",
    "    print('%s, ' % name, end='')\n",
    "#     print(','.join(list(mod.globalnames.keys())[:3]))\n",
    "\n",
    "print('\\n', '-'*50)\n",
    "print('Modules not imported:')\n",
    "print(', '.join(finder.badmodules.keys()))"
   ]
  },
  {
   "cell_type": "code",
   "execution_count": 24,
   "metadata": {},
   "outputs": [],
   "source": [
    "items = finder.modules.items()"
   ]
  },
  {
   "cell_type": "code",
   "execution_count": 28,
   "metadata": {},
   "outputs": [
    {
     "name": "stdout",
     "output_type": "stream",
     "text": [
      "('__main__', Module('__main__', 'bacon.py'))\n",
      "('re', Module('re', '/Users/nathanielstarkman/miniconda3/lib/python3.7/re.py'))\n",
      "('enum', Module('enum', '/Users/nathanielstarkman/miniconda3/lib/python3.7/enum.py'))\n",
      "('abc', Module('abc', '/Users/nathanielstarkman/miniconda3/lib/python3.7/abc.py'))\n"
     ]
    }
   ],
   "source": [
    "print(list(items)[0])\n",
    "\n",
    "print(list(items)[1])\n",
    "\n",
    "print(list(items)[2])\n"
   ]
  },
  {
   "cell_type": "markdown",
   "metadata": {},
   "source": [
    "ModuleFinder seems to be finding too many subpackages"
   ]
  },
  {
   "cell_type": "code",
   "execution_count": 44,
   "metadata": {},
   "outputs": [
    {
     "data": {
      "text/plain": [
       "[('astropy',\n",
       "  <module 'astropy' from '/Users/nathanielstarkman/miniconda3/lib/python3.7/site-packages/astropy/__init__.py'>),\n",
       " ('itertools', <module 'itertools' (built-in)>),\n",
       " ('re',\n",
       "  <module 're' from '/Users/nathanielstarkman/miniconda3/lib/python3.7/re.py'>)]"
      ]
     },
     "execution_count": 44,
     "metadata": {},
     "output_type": "execute_result"
    }
   ],
   "source": [
    "module = importlib.import_module('bacon')\n",
    "importlib.reload(module)\n",
    "\n",
    "m = inspect.getmembers(importlib.import_module('bacon')) # get module content\n",
    "\n",
    "list(filter(lambda x: inspect.ismodule(x[1]), m)) # filter dependant modules"
   ]
  },
  {
   "cell_type": "code",
   "execution_count": 56,
   "metadata": {},
   "outputs": [],
   "source": [
    "import warnings\n",
    "import pytest\n",
    "\n",
    "class DocStringFormatWarning(UserWarning):\n",
    "    \"\"\"DocStringFormatWarning.\"\"\"\n",
    "\n",
    "    pass\n",
    "\n",
    "\n",
    "# /class\n",
    "\n",
    "\n",
    "def test_DocStringFormatWarning():\n",
    "    \"\"\"Test DocStringFormatWarning.\"\"\"\n",
    "#     from ..exceptions import DocStringFormatWarning\n",
    "\n",
    "    with pytest.warns(DocStringFormatWarning):\n",
    "        warnings.warn(\"DocStringFormatWarning\", DocStringFormatWarning)\n",
    "\n",
    "\n",
    "# /def\n",
    "\n",
    "test_DocStringFormatWarning()"
   ]
  },
  {
   "cell_type": "code",
   "execution_count": null,
   "metadata": {},
   "outputs": [],
   "source": []
  }
 ],
 "metadata": {
  "kernel_info": {
   "name": "astrophd"
  },
  "kernelspec": {
   "display_name": "astroPHD",
   "language": "python",
   "name": "astrophd"
  },
  "language_info": {
   "codemirror_mode": {
    "name": "ipython",
    "version": 3
   },
   "file_extension": ".py",
   "mimetype": "text/x-python",
   "name": "python",
   "nbconvert_exporter": "python",
   "pygments_lexer": "ipython3",
   "version": "3.7.3"
  },
  "nteract": {
   "version": "0.21.0"
  }
 },
 "nbformat": 4,
 "nbformat_minor": 4
}
